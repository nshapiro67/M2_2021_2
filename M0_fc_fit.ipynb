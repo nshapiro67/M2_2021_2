{
 "cells": [
  {
   "cell_type": "code",
   "execution_count": null,
   "id": "6f13be61-2d14-47ec-8b3b-782f8cdd19c3",
   "metadata": {},
   "outputs": [],
   "source": [
    "#------------------------ importing basic packages\n",
    "import matplotlib.pyplot as plt\n",
    "import numpy as np\n",
    "\n",
    "#------------------ plotting mode\n",
    "%matplotlib widget\n",
    "#----------------------------\n",
    "\n",
    "#---------------- Prieto's model\n",
    "\n",
    "Mp = np.zeros(2)\n",
    "\n",
    "Mp[0] = 4e11\n",
    "Mp[1] = 2e14\n",
    "\n",
    "fp = np.zeros(2)\n",
    "\n",
    "fp[0] = 30.\n",
    "\n",
    "fp[1] = fp[0]*(Mp[1]/Mp[0])**(-1/3)\n",
    "\n",
    "\n",
    "#----------- measurements\n",
    "\n",
    "Mo = np.zeros(2)\n",
    "fo = np.zeros(2)\n",
    "\n",
    "Mo[0] = # 9e+18\n",
    "Mo[1] = # 7.2e+16\n",
    "\n",
    "fo[0] = # .13\n",
    "fo[1] = # .7\n",
    "\n",
    "Mf = Mp.copy()\n",
    "ff = fp.copy()\n",
    "\n",
    "Mf[1] = Mo[0]\n",
    "ff[1] = ff[0]*(Mf[1]/Mf[0])**(-1/3)\n",
    "\n",
    "#--------------- plotting\n",
    "plt.figure()\n",
    "plt.loglog(Mp,fp,linewidth=3)\n",
    "plt.loglog(Mf,ff,'k:')\n",
    "plt.loglog(Mo,fo,'o')\n",
    "plt.ylabel('corner frequency (Hz)')\n",
    "plt.xlabel('seismic moment (N m)')\n",
    "plt.show()"
   ]
  },
  {
   "cell_type": "code",
   "execution_count": null,
   "id": "3deecd19-f0a9-48a9-b46e-0452a85009f2",
   "metadata": {},
   "outputs": [],
   "source": []
  }
 ],
 "metadata": {
  "kernelspec": {
   "display_name": "Python 3",
   "language": "python",
   "name": "python3"
  },
  "language_info": {
   "codemirror_mode": {
    "name": "ipython",
    "version": 3
   },
   "file_extension": ".py",
   "mimetype": "text/x-python",
   "name": "python",
   "nbconvert_exporter": "python",
   "pygments_lexer": "ipython3",
   "version": "3.8.8"
  }
 },
 "nbformat": 4,
 "nbformat_minor": 5
}
